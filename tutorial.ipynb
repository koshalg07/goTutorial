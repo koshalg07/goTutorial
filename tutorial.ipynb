{
 "cells": [
  {
   "cell_type": "markdown",
   "metadata": {},
   "source": [
    "# What is Golang?\n",
    "\n",
    "1. A programming language which is built for application that are deployed on clouds and allows the application to run parallely in the cloud.\n",
    "2. Deals concurrency because built in concurrency mechanisms using **goroutines**\n",
    "3. Use case of Go are \n",
    "    1. powerful application\n",
    "    2. for scalable and dynamic application \n",
    "4. used in server side application eg: microservices, web applications\n",
    "5. combination of python and cpp\n",
    "6. very fast on startup and also compiled language like java."
   ]
  },
  {
   "cell_type": "markdown",
   "metadata": {},
   "source": [
    "## Initial setup\n",
    "\n",
    "1. go requires the creation of module first so:\n",
    "    1. go mod init <package-name>\n",
    "    \n",
    "2. go needs a starting point \n",
    "    1. error : non-declaration statement outside function body\n",
    "        1. solution: declare the main.go with **func main(){\n",
    "\n",
    "        }**\n",
    "        2. and you have to import a lot of packages.\n",
    "        for eg: fmt"
   ]
  },
  {
   "cell_type": "markdown",
   "metadata": {},
   "source": [
    "## errors\n",
    "\n",
    "1. you get error for unused things like variables, packages etc.\n"
   ]
  },
  {
   "cell_type": "markdown",
   "metadata": {},
   "source": [
    "## Syntax\n",
    "\n",
    "1. printing \n",
    "    1. fmt.Print(\"lorem ipsum\", variableName, \"lorem ipsum\") **for concatenation**\n",
    "    2. formating strings : fmt.Printf(\"lorem ipsum %v lorem ipsum \\n\", variableName)\n",
    "\n",
    "2. variable declaration\n",
    "    1. var variableName = whatever you want\n",
    "    \n",
    "3. constant declaration\n",
    "    1. variableName = whatever\n",
    "\n",
    "4. initializing the variable\n",
    "    1. if you do it immidiately then no error\n",
    "    2. datatypes in all lowercase\n",
    "    3. %T is used to find out type in printf statment \n",
    "\n",
    "5. user input -- it uses pass by reference not pass by value\n",
    "    1. fmt.Scan(&variableName)"
   ]
  },
  {
   "cell_type": "markdown",
   "metadata": {},
   "source": [
    "## data types\n",
    "\n",
    "1.  int\n",
    "2. string\n",
    "3. arrays\n",
    "    1. constant size\n",
    "    2. declaration = var variableName = [size]data_type{} or var variableName [size]dataType\n",
    "    3. length of array = len(variableName)\n",
    "4. slices\n",
    "    1. dynamic size\n",
    "    2. declaration = var variableName = []data_type or var variableName []dataType\n",
    "    3. adding item => variableName =  append(variableName, data)\n"
   ]
  },
  {
   "cell_type": "markdown",
   "metadata": {},
   "source": [
    "## LOOPS\n",
    "\n",
    "1. there are no while, do while loops in go only one loop is there and that is for loop\n",
    "\n",
    "### types of for loops\n",
    "\n",
    "1. infinite for loop \n",
    "    1. declaration:\n",
    "        1. for {\n",
    "            //statement to be executed\n",
    "        } - infinite for loop\n",
    "        2. for index, variableName := variableArray{\n",
    "            // statements\n",
    "        }\n",
    "        3. a \"_\" is used to explicitly tell whether it is a blank variable or not\n",
    "        4."
   ]
  },
  {
   "cell_type": "markdown",
   "metadata": {},
   "source": [
    "## conditional statments - if else\n",
    "\n",
    "if condition {\n",
    "\n",
    "}\n",
    "else {\n",
    "\n",
    "}"
   ]
  },
  {
   "cell_type": "markdown",
   "metadata": {},
   "source": [
    "## functions in GO\n",
    "\n",
    "func functionName(variableName datatype, variableName datatype) returnType {\n",
    "\n",
    "    return returnType\n",
    "\n",
    "}\n",
    "\n",
    "\n",
    "### packages in go\n",
    "\n",
    "package foldername\n",
    "\n",
    "how to run all the files in main package\n",
    "\n",
    "go run .\n",
    "\n",
    "\n",
    "exporting functions in other packages to some other package is done by capitalizing the fucntion name\n",
    "\n",
    "\n",
    "import (\n",
    "    \"moduleName/packageName\"\n",
    ")"
   ]
  },
  {
   "cell_type": "markdown",
   "metadata": {},
   "source": []
  }
 ],
 "metadata": {
  "language_info": {
   "name": "python"
  }
 },
 "nbformat": 4,
 "nbformat_minor": 2
}
